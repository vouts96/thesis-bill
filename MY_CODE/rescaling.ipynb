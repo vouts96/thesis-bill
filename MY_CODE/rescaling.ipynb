{
 "cells": [
  {
   "cell_type": "markdown",
   "metadata": {},
   "source": [
    "# Notebook for rescaling data after converting them to long format for DEEPTSF"
   ]
  },
  {
   "cell_type": "code",
   "execution_count": 1,
   "metadata": {},
   "outputs": [
    {
     "name": "stderr",
     "output_type": "stream",
     "text": [
      "c:\\Users\\billv\\AppData\\Local\\Programs\\Python\\Python38\\lib\\site-packages\\IPython\\core\\interactiveshell.py:3338: DtypeWarning: Columns (2) have mixed types.Specify dtype option on import or set low_memory=False.\n",
      "  if (await self.run_code(code, result,  async_=asy)):\n"
     ]
    }
   ],
   "source": [
    "import pandas as pd\n",
    "\n",
    "def rescale(csv):\n",
    "    # Read CSV\n",
    "    df = pd.read_csv(csv, parse_dates=['Datetime']).drop('Unnamed: 0', axis=1)\n",
    "    df['Value'] = pd.to_numeric(df['Value'], errors='coerce')\n",
    "    for index, row in df.iterrows():\n",
    "        if(row['Value'] <= 1):\n",
    "            df.at[index, 'Value'] = row['Value'] * 1000\n",
    "        elif(row['Value'] >= 1000):\n",
    "            df.at[index, 'Value'] = row['Value'] / 1000\n",
    "    \n",
    "    df.to_csv('../EXCEL_TO_CSV/all_data_long_rescaled.csv')\n",
    "\n",
    "    return df\n",
    "\n",
    "rescale('../EXCEL_TO_CSV/all_data_changed_format_long.csv')"
   ]
  },
  {
   "cell_type": "code",
   "execution_count": null,
   "metadata": {},
   "outputs": [],
   "source": []
  }
 ],
 "metadata": {
  "kernelspec": {
   "display_name": "Python 3",
   "language": "python",
   "name": "python3"
  },
  "language_info": {
   "codemirror_mode": {
    "name": "ipython",
    "version": 3
   },
   "file_extension": ".py",
   "mimetype": "text/x-python",
   "name": "python",
   "nbconvert_exporter": "python",
   "pygments_lexer": "ipython3",
   "version": "3.8.7"
  }
 },
 "nbformat": 4,
 "nbformat_minor": 2
}
