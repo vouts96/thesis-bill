{
 "cells": [
  {
   "cell_type": "code",
   "execution_count": null,
   "metadata": {
    "_cell_guid": "b1076dfc-b9ad-4769-8c92-a6c4dae69d19",
    "_uuid": "8f2839f25d086af736a60e9eeb907d3b93b6e0e5",
    "execution": {
     "iopub.execute_input": "2022-10-27T23:13:37.660492Z",
     "iopub.status.busy": "2022-10-27T23:13:37.659449Z",
     "iopub.status.idle": "2022-10-27T23:13:37.670656Z",
     "shell.execute_reply": "2022-10-27T23:13:37.669591Z",
     "shell.execute_reply.started": "2022-10-27T23:13:37.660451Z"
    }
   },
   "outputs": [],
   "source": [
    "# This Python 3 environment comes with many helpful analytics libraries installed\n",
    "# It is defined by the kaggle/python Docker image: https://github.com/kaggle/docker-python\n",
    "# For example, here's several helpful packages to load\n",
    "\n",
    "import numpy as np # linear algebra\n",
    "import pandas as pd # data processing, CSV file I/O (e.g. pd.read_csv)\n",
    "import pathlib\n",
    "import seaborn as sns\n",
    "import matplotlib.pyplot as plt\n",
    "from datetime import datetime\n",
    "from sklearn.preprocessing import StandardScaler\n",
    "from sklearn.preprocessing import MinMaxScaler\n",
    "from matplotlib.lines import Line2D\n",
    "import matplotlib as mpl\n",
    "from itertools import cycle\n",
    "\n",
    "# Input data files are available in the read-only \"../input/\" directory\n",
    "# For example, running this (by clicking run or pressing Shift+Enter) will list all files under the input directory\n",
    "\n",
    "import os\n",
    "for dirname, _, filenames in os.walk('/kaggle/input'):\n",
    "    for filename in filenames:\n",
    "        print(os.path.join(dirname, filename))\n",
    "        file = os.path.join(dirname, filename)\n",
    "# You can write up to 20GB to the current directory (/kaggle/working/) that gets preserved as output when you create a version using \"Save & Run All\" \n",
    "# You can also write temporary files to /kaggle/temp/, but they won't be saved outside of the current session"
   ]
  },
  {
   "cell_type": "code",
   "execution_count": null,
   "metadata": {
    "execution": {
     "iopub.execute_input": "2022-10-27T23:13:37.700313Z",
     "iopub.status.busy": "2022-10-27T23:13:37.699578Z",
     "iopub.status.idle": "2022-10-27T23:13:44.504223Z",
     "shell.execute_reply": "2022-10-27T23:13:44.503015Z",
     "shell.execute_reply.started": "2022-10-27T23:13:37.700265Z"
    }
   },
   "outputs": [],
   "source": [
    "import datetime\n",
    "def excel_read():\n",
    "    def dparser(x):\n",
    "        try:\n",
    "            x = datetime.datetime.strptime(x,'%Y-%m-%d %H:%M:%S')\n",
    "        except:\n",
    "            x= 'NaN'\n",
    "        return x\n",
    "\n",
    "    dateparse = lambda x: dparser(x)\n",
    "    dataframe = pd.read_excel(file,\n",
    "                              parse_dates=['Ημερομηνία / Date'],\n",
    "    #                           date_parser=dateparse\n",
    "                              )\n",
    "    return dataframe\n",
    "df = excel_read()"
   ]
  },
  {
   "cell_type": "code",
   "execution_count": null,
   "metadata": {
    "execution": {
     "iopub.execute_input": "2022-10-27T23:13:44.507225Z",
     "iopub.status.busy": "2022-10-27T23:13:44.506460Z",
     "iopub.status.idle": "2022-10-27T23:13:51.334055Z",
     "shell.execute_reply": "2022-10-27T23:13:51.332761Z",
     "shell.execute_reply.started": "2022-10-27T23:13:44.507181Z"
    }
   },
   "outputs": [],
   "source": [
    "from datetime import datetime\n",
    "\n",
    "def read_excel(file):\n",
    "    \"\"\"\n",
    "    Reads all csv files in folder path given and stores them in a single dataframe df \n",
    "    Parameters: None\n",
    "    ----------\n",
    "    Returns\n",
    "    -------\n",
    "    pandas.DataFrame\n",
    "        Dataframe where rows are individual data and columns for indicative\n",
    "        information on the data like datetime, month, week, country etc\n",
    "    \"\"\"\n",
    "\n",
    "    df = pd.DataFrame()\n",
    "    dateparse = lambda x: datetime.strptime(x, '%Y-%m-%d %H:%M:%S')\n",
    "\n",
    "    # For every csv file in folder \n",
    "    temp_df = pd.read_excel(file,\n",
    "                          parse_dates=['Ημερομηνία / Date'],\n",
    "                          date_parser=dateparse)\n",
    "    df = pd.concat([df,temp_df]) \n",
    "    print('Data loading complete!')\n",
    "    df.sort_values(by=['Ημερομηνία / Date'], ascending=True, inplace=True)\n",
    "    return df\n",
    "\n",
    "df = read_excel(file)"
   ]
  },
  {
   "cell_type": "code",
   "execution_count": null,
   "metadata": {
    "execution": {
     "iopub.execute_input": "2022-10-27T23:13:51.335730Z",
     "iopub.status.busy": "2022-10-27T23:13:51.335341Z",
     "iopub.status.idle": "2022-10-27T23:13:51.342465Z",
     "shell.execute_reply": "2022-10-27T23:13:51.341166Z",
     "shell.execute_reply.started": "2022-10-27T23:13:51.335667Z"
    }
   },
   "outputs": [],
   "source": [
    "income = pd.DataFrame({'Date': [],\n",
    "                   'Kwh':[],\n",
    "                   'year': [],\n",
    "                   'month': [],\n",
    "                   'day':[],\n",
    "                   'city':[]\n",
    "                  })"
   ]
  },
  {
   "cell_type": "code",
   "execution_count": null,
   "metadata": {
    "execution": {
     "iopub.execute_input": "2022-10-27T23:13:51.345434Z",
     "iopub.status.busy": "2022-10-27T23:13:51.345148Z",
     "iopub.status.idle": "2022-10-27T23:13:51.359176Z",
     "shell.execute_reply": "2022-10-27T23:13:51.358038Z",
     "shell.execute_reply.started": "2022-10-27T23:13:51.345407Z"
    }
   },
   "outputs": [],
   "source": [
    "income"
   ]
  },
  {
   "cell_type": "code",
   "execution_count": null,
   "metadata": {
    "execution": {
     "iopub.execute_input": "2022-10-27T23:13:51.386765Z",
     "iopub.status.busy": "2022-10-27T23:13:51.386383Z",
     "iopub.status.idle": "2022-10-27T23:13:51.397090Z",
     "shell.execute_reply": "2022-10-27T23:13:51.396003Z",
     "shell.execute_reply.started": "2022-10-27T23:13:51.386731Z"
    }
   },
   "outputs": [],
   "source": [
    "df.replace(np.nan, 0,inplace=True)\n"
   ]
  },
  {
   "cell_type": "code",
   "execution_count": null,
   "metadata": {
    "execution": {
     "iopub.execute_input": "2022-10-27T23:13:51.407282Z",
     "iopub.status.busy": "2022-10-27T23:13:51.406965Z",
     "iopub.status.idle": "2022-10-27T23:13:51.425208Z",
     "shell.execute_reply": "2022-10-27T23:13:51.424156Z",
     "shell.execute_reply.started": "2022-10-27T23:13:51.407255Z"
    }
   },
   "outputs": [],
   "source": [
    "income"
   ]
  },
  {
   "cell_type": "code",
   "execution_count": null,
   "metadata": {
    "execution": {
     "iopub.execute_input": "2022-10-27T23:13:51.429090Z",
     "iopub.status.busy": "2022-10-27T23:13:51.428714Z",
     "iopub.status.idle": "2022-10-27T23:13:51.437568Z",
     "shell.execute_reply": "2022-10-27T23:13:51.436599Z",
     "shell.execute_reply.started": "2022-10-27T23:13:51.429058Z"
    }
   },
   "outputs": [],
   "source": [
    "list(df.columns)[1]"
   ]
  },
  {
   "cell_type": "code",
   "execution_count": null,
   "metadata": {
    "execution": {
     "iopub.execute_input": "2022-10-27T23:13:51.439436Z",
     "iopub.status.busy": "2022-10-27T23:13:51.439140Z",
     "iopub.status.idle": "2022-10-27T23:13:51.451702Z",
     "shell.execute_reply": "2022-10-27T23:13:51.450728Z",
     "shell.execute_reply.started": "2022-10-27T23:13:51.439409Z"
    }
   },
   "outputs": [],
   "source": [
    "income"
   ]
  },
  {
   "cell_type": "code",
   "execution_count": null,
   "metadata": {
    "execution": {
     "iopub.execute_input": "2022-10-27T23:13:51.453173Z",
     "iopub.status.busy": "2022-10-27T23:13:51.452885Z",
     "iopub.status.idle": "2022-10-27T23:13:51.462559Z",
     "shell.execute_reply": "2022-10-27T23:13:51.461803Z",
     "shell.execute_reply.started": "2022-10-27T23:13:51.453147Z"
    }
   },
   "outputs": [],
   "source": [
    "data = df.drop(labels=['Unnamed: 0'], axis=1, inplace=True)\n"
   ]
  },
  {
   "cell_type": "code",
   "execution_count": null,
   "metadata": {
    "execution": {
     "iopub.execute_input": "2022-10-27T23:13:51.464995Z",
     "iopub.status.busy": "2022-10-27T23:13:51.464565Z",
     "iopub.status.idle": "2022-10-27T23:13:51.475157Z",
     "shell.execute_reply": "2022-10-27T23:13:51.474241Z",
     "shell.execute_reply.started": "2022-10-27T23:13:51.464953Z"
    }
   },
   "outputs": [],
   "source": [
    "# df.fillna(0).copy()\n",
    "df.replace(np.nan, 0,inplace=True)\n"
   ]
  },
  {
   "cell_type": "code",
   "execution_count": null,
   "metadata": {
    "execution": {
     "iopub.execute_input": "2022-10-27T23:13:51.476736Z",
     "iopub.status.busy": "2022-10-27T23:13:51.476295Z",
     "iopub.status.idle": "2022-10-27T23:13:51.520747Z",
     "shell.execute_reply": "2022-10-27T23:13:51.519722Z",
     "shell.execute_reply.started": "2022-10-27T23:13:51.476671Z"
    }
   },
   "outputs": [],
   "source": [
    "df"
   ]
  },
  {
   "cell_type": "code",
   "execution_count": null,
   "metadata": {
    "execution": {
     "iopub.execute_input": "2022-10-27T23:13:51.522721Z",
     "iopub.status.busy": "2022-10-27T23:13:51.522256Z",
     "iopub.status.idle": "2022-10-27T23:13:51.541927Z",
     "shell.execute_reply": "2022-10-27T23:13:51.540708Z",
     "shell.execute_reply.started": "2022-10-27T23:13:51.522654Z"
    }
   },
   "outputs": [],
   "source": [
    "eisroes = df.iloc[0:5372, 0:5]\n",
    "eisroes"
   ]
  },
  {
   "cell_type": "code",
   "execution_count": null,
   "metadata": {
    "execution": {
     "iopub.execute_input": "2022-10-27T23:13:51.544347Z",
     "iopub.status.busy": "2022-10-27T23:13:51.543912Z",
     "iopub.status.idle": "2022-10-27T23:15:03.609776Z",
     "shell.execute_reply": "2022-10-27T23:15:03.608637Z",
     "shell.execute_reply.started": "2022-10-27T23:13:51.544303Z"
    }
   },
   "outputs": [],
   "source": [
    "for index, row in eisroes.iterrows():\n",
    "    year = str(row[0]).split(\"-\")[0]\n",
    "    month = str(row[0]).split(\"-\")[1]\n",
    "    day = str(row[0]).split(\"-\")[2].split(\" \")[0]\n",
    "    for i in range(len(row)):\n",
    "#     print(row[0], row[1], str(row[0]).split(\"-\")[0],str(row[0]).split(\"-\")[1],str(row[0]).split(\"-\")[2],list(df.columns)[index+1])\n",
    "        if i < len(row)-1:\n",
    "#             print(row[0], row[1], str(row[0]).split(\"-\")[0],str(row[0]).split(\"-\")[1],str(row[0]).split(\"-\")[2],list(df.columns)[i+1])\n",
    "            income.loc[len(income.index)] = [row[0], row[i+1], year , month, day,list(eisroes.columns)[i+1]]\n",
    "income"
   ]
  },
  {
   "cell_type": "code",
   "execution_count": null,
   "metadata": {
    "execution": {
     "iopub.execute_input": "2022-10-28T06:44:29.604096Z",
     "iopub.status.busy": "2022-10-28T06:44:29.602539Z",
     "iopub.status.idle": "2022-10-28T06:44:29.780148Z",
     "shell.execute_reply": "2022-10-28T06:44:29.778907Z",
     "shell.execute_reply.started": "2022-10-28T06:44:29.604052Z"
    }
   },
   "outputs": [],
   "source": [
    "income.to_csv(r'/kaggle/working/Income.csv')"
   ]
  },
  {
   "cell_type": "code",
   "execution_count": null,
   "metadata": {
    "execution": {
     "iopub.execute_input": "2022-10-28T06:44:23.110760Z",
     "iopub.status.busy": "2022-10-28T06:44:23.110351Z",
     "iopub.status.idle": "2022-10-28T06:44:23.133080Z",
     "shell.execute_reply": "2022-10-28T06:44:23.131695Z",
     "shell.execute_reply.started": "2022-10-28T06:44:23.110726Z"
    }
   },
   "outputs": [],
   "source": [
    "income"
   ]
  },
  {
   "cell_type": "code",
   "execution_count": null,
   "metadata": {
    "execution": {
     "iopub.execute_input": "2022-10-27T23:15:03.619761Z",
     "iopub.status.busy": "2022-10-27T23:15:03.618883Z",
     "iopub.status.idle": "2022-10-27T23:15:03.669278Z",
     "shell.execute_reply": "2022-10-27T23:15:03.668501Z",
     "shell.execute_reply.started": "2022-10-27T23:15:03.619721Z"
    }
   },
   "outputs": [],
   "source": [
    "ekroes = df.drop(labels=['AGIA TRIADA','SIDIROKASTRO','KIPI','NEA MESIMVRIA'], axis=1).copy()\n",
    "ekroes"
   ]
  },
  {
   "cell_type": "code",
   "execution_count": null,
   "metadata": {
    "execution": {
     "iopub.execute_input": "2022-10-27T23:15:03.671195Z",
     "iopub.status.busy": "2022-10-27T23:15:03.670323Z",
     "iopub.status.idle": "2022-10-27T23:15:03.678031Z",
     "shell.execute_reply": "2022-10-27T23:15:03.676979Z",
     "shell.execute_reply.started": "2022-10-27T23:15:03.671162Z"
    }
   },
   "outputs": [],
   "source": [
    "outcome = pd.DataFrame({'Date': [],\n",
    "                   'Kwh':[],\n",
    "                   'year': [],\n",
    "                   'month': [],\n",
    "                   'day':[],\n",
    "                   'city':[]\n",
    "                  })"
   ]
  },
  {
   "cell_type": "code",
   "execution_count": null,
   "metadata": {
    "execution": {
     "iopub.execute_input": "2022-10-27T23:15:38.352065Z",
     "iopub.status.busy": "2022-10-27T23:15:38.351656Z",
     "iopub.status.idle": "2022-10-28T00:22:29.530493Z",
     "shell.execute_reply": "2022-10-28T00:22:29.529339Z",
     "shell.execute_reply.started": "2022-10-27T23:15:38.352026Z"
    }
   },
   "outputs": [],
   "source": [
    "for index, row in ekroes.iterrows():\n",
    "    year = str(row[0]).split(\"-\")[0]\n",
    "    month = str(row[0]).split(\"-\")[1]\n",
    "    day = str(row[0]).split(\"-\")[2].split(\" \")[0]\n",
    "    for i in range(len(row)):\n",
    "#     print(row[0], row[1], str(row[0]).split(\"-\")[0],str(row[0]).split(\"-\")[1],str(row[0]).split(\"-\")[2],list(df.columns)[index+1])\n",
    "        if i < len(row)-1:\n",
    "#             print(row[0], row[1], str(row[0]).split(\"-\")[0],str(row[0]).split(\"-\")[1],str(row[0]).split(\"-\")[2],list(df.columns)[i+1])\n",
    "            outcome.loc[len(outcome.index)] = [row[0], row[i+1], year , month, day,list(ekroes.columns)[i+1]]\n",
    "outcome"
   ]
  },
  {
   "cell_type": "code",
   "execution_count": 47,
   "metadata": {
    "execution": {
     "iopub.execute_input": "2022-10-28T07:42:37.966349Z",
     "iopub.status.busy": "2022-10-28T07:42:37.965755Z",
     "iopub.status.idle": "2022-10-28T07:42:37.991734Z",
     "shell.execute_reply": "2022-10-28T07:42:37.989839Z",
     "shell.execute_reply.started": "2022-10-28T07:42:37.966305Z"
    }
   },
   "outputs": [
    {
     "data": {
      "text/html": [
       "<div>\n",
       "<style scoped>\n",
       "    .dataframe tbody tr th:only-of-type {\n",
       "        vertical-align: middle;\n",
       "    }\n",
       "\n",
       "    .dataframe tbody tr th {\n",
       "        vertical-align: top;\n",
       "    }\n",
       "\n",
       "    .dataframe thead th {\n",
       "        text-align: right;\n",
       "    }\n",
       "</style>\n",
       "<table border=\"1\" class=\"dataframe\">\n",
       "  <thead>\n",
       "    <tr style=\"text-align: right;\">\n",
       "      <th></th>\n",
       "      <th>Date</th>\n",
       "      <th>Kwh</th>\n",
       "      <th>year</th>\n",
       "      <th>month</th>\n",
       "      <th>day</th>\n",
       "      <th>city</th>\n",
       "    </tr>\n",
       "  </thead>\n",
       "  <tbody>\n",
       "    <tr>\n",
       "      <th>0</th>\n",
       "      <td>0.0</td>\n",
       "      <td>0.000000e+00</td>\n",
       "      <td>2008</td>\n",
       "      <td>01</td>\n",
       "      <td>01</td>\n",
       "      <td>ALOYMINION</td>\n",
       "    </tr>\n",
       "    <tr>\n",
       "      <th>1</th>\n",
       "      <td>0.0</td>\n",
       "      <td>0.000000e+00</td>\n",
       "      <td>2008</td>\n",
       "      <td>01</td>\n",
       "      <td>01</td>\n",
       "      <td>ALOYMINION II</td>\n",
       "    </tr>\n",
       "    <tr>\n",
       "      <th>2</th>\n",
       "      <td>0.0</td>\n",
       "      <td>0.000000e+00</td>\n",
       "      <td>2008</td>\n",
       "      <td>01</td>\n",
       "      <td>01</td>\n",
       "      <td>ALOYMINION III</td>\n",
       "    </tr>\n",
       "    <tr>\n",
       "      <th>3</th>\n",
       "      <td>0.0</td>\n",
       "      <td>1.328264e+07</td>\n",
       "      <td>2008</td>\n",
       "      <td>01</td>\n",
       "      <td>01</td>\n",
       "      <td>ATHENS</td>\n",
       "    </tr>\n",
       "    <tr>\n",
       "      <th>4</th>\n",
       "      <td>0.0</td>\n",
       "      <td>0.000000e+00</td>\n",
       "      <td>2008</td>\n",
       "      <td>01</td>\n",
       "      <td>01</td>\n",
       "      <td>ALEXANDROUPOLIS</td>\n",
       "    </tr>\n",
       "    <tr>\n",
       "      <th>...</th>\n",
       "      <td>...</td>\n",
       "      <td>...</td>\n",
       "      <td>...</td>\n",
       "      <td>...</td>\n",
       "      <td>...</td>\n",
       "      <td>...</td>\n",
       "    </tr>\n",
       "    <tr>\n",
       "      <th>249559</th>\n",
       "      <td>2022-08-31 00:00:00</td>\n",
       "      <td>2.251120e+05</td>\n",
       "      <td>2022</td>\n",
       "      <td>08</td>\n",
       "      <td>31</td>\n",
       "      <td>SALFA ANO LIOSSIA</td>\n",
       "    </tr>\n",
       "    <tr>\n",
       "      <th>249560</th>\n",
       "      <td>2022-08-31 00:00:00</td>\n",
       "      <td>4.449230e+05</td>\n",
       "      <td>2022</td>\n",
       "      <td>08</td>\n",
       "      <td>31</td>\n",
       "      <td>SERRES</td>\n",
       "    </tr>\n",
       "    <tr>\n",
       "      <th>249561</th>\n",
       "      <td>2022-08-31 00:00:00</td>\n",
       "      <td>5.432300e+04</td>\n",
       "      <td>2022</td>\n",
       "      <td>08</td>\n",
       "      <td>31</td>\n",
       "      <td>TRIKALA</td>\n",
       "    </tr>\n",
       "    <tr>\n",
       "      <th>249562</th>\n",
       "      <td>2022-08-31 00:00:00</td>\n",
       "      <td>0.000000e+00</td>\n",
       "      <td>2022</td>\n",
       "      <td>08</td>\n",
       "      <td>31</td>\n",
       "      <td>FARSALA</td>\n",
       "    </tr>\n",
       "    <tr>\n",
       "      <th>249563</th>\n",
       "      <td>2022-08-31 00:00:00</td>\n",
       "      <td>0.000000e+00</td>\n",
       "      <td>2022</td>\n",
       "      <td>08</td>\n",
       "      <td>31</td>\n",
       "      <td>SIDIROKASTRO.1</td>\n",
       "    </tr>\n",
       "  </tbody>\n",
       "</table>\n",
       "<p>249564 rows × 6 columns</p>\n",
       "</div>"
      ],
      "text/plain": [
       "                       Date           Kwh  year month day               city\n",
       "0                       0.0  0.000000e+00  2008    01  01         ALOYMINION\n",
       "1                       0.0  0.000000e+00  2008    01  01      ALOYMINION II\n",
       "2                       0.0  0.000000e+00  2008    01  01     ALOYMINION III\n",
       "3                       0.0  1.328264e+07  2008    01  01             ATHENS\n",
       "4                       0.0  0.000000e+00  2008    01  01    ALEXANDROUPOLIS\n",
       "...                     ...           ...   ...   ...  ..                ...\n",
       "249559  2022-08-31 00:00:00  2.251120e+05  2022    08  31  SALFA ANO LIOSSIA\n",
       "249560  2022-08-31 00:00:00  4.449230e+05  2022    08  31             SERRES\n",
       "249561  2022-08-31 00:00:00  5.432300e+04  2022    08  31            TRIKALA\n",
       "249562  2022-08-31 00:00:00  0.000000e+00  2022    08  31            FARSALA\n",
       "249563  2022-08-31 00:00:00  0.000000e+00  2022    08  31     SIDIROKASTRO.1\n",
       "\n",
       "[249564 rows x 6 columns]"
      ]
     },
     "execution_count": 47,
     "metadata": {},
     "output_type": "execute_result"
    }
   ],
   "source": [
    "outcome"
   ]
  },
  {
   "cell_type": "code",
   "execution_count": null,
   "metadata": {
    "execution": {
     "iopub.execute_input": "2022-10-28T06:45:10.106432Z",
     "iopub.status.busy": "2022-10-28T06:45:10.105930Z",
     "iopub.status.idle": "2022-10-28T06:45:11.405192Z",
     "shell.execute_reply": "2022-10-28T06:45:11.404250Z",
     "shell.execute_reply.started": "2022-10-28T06:45:10.106393Z"
    }
   },
   "outputs": [],
   "source": [
    "outcome.to_csv(r'/kaggle/working/Outcome.csv')"
   ]
  },
  {
   "cell_type": "code",
   "execution_count": null,
   "metadata": {
    "execution": {
     "iopub.execute_input": "2022-10-28T06:50:43.353951Z",
     "iopub.status.busy": "2022-10-28T06:50:43.353518Z",
     "iopub.status.idle": "2022-10-28T06:50:44.587998Z",
     "shell.execute_reply": "2022-10-28T06:50:44.586663Z",
     "shell.execute_reply.started": "2022-10-28T06:50:43.353918Z"
    }
   },
   "outputs": [],
   "source": [
    "outcome.to_csv(r'/kaggle/working/Outcome_2.csv',index = False)"
   ]
  },
  {
   "cell_type": "code",
   "execution_count": null,
   "metadata": {
    "execution": {
     "iopub.execute_input": "2022-10-28T07:02:45.029462Z",
     "iopub.status.busy": "2022-10-28T07:02:45.029017Z",
     "iopub.status.idle": "2022-10-28T07:02:45.037745Z",
     "shell.execute_reply": "2022-10-28T07:02:45.035957Z",
     "shell.execute_reply.started": "2022-10-28T07:02:45.029426Z"
    }
   },
   "outputs": [],
   "source": [
    "outcome2 = pd.DataFrame({'Date': [],\n",
    "                   'Kwh':[],\n",
    "                   'year': [],\n",
    "                   'month': [],\n",
    "                   'day':[],\n",
    "                   'city':[]\n",
    "                  })"
   ]
  },
  {
   "cell_type": "code",
   "execution_count": null,
   "metadata": {
    "execution": {
     "iopub.execute_input": "2022-10-28T07:02:47.248198Z",
     "iopub.status.busy": "2022-10-28T07:02:47.247699Z",
     "iopub.status.idle": "2022-10-28T07:02:48.878938Z",
     "shell.execute_reply": "2022-10-28T07:02:48.877761Z",
     "shell.execute_reply.started": "2022-10-28T07:02:47.248160Z"
    }
   },
   "outputs": [],
   "source": [
    "for index, row in ekroes.iterrows():\n",
    "    year = str(row[0]).split(\"-\")[0]\n",
    "    month = str(row[0]).split(\"-\")[1]\n",
    "    day = str(row[0]).split(\"-\")[2].split(\" \")[0]\n",
    "    for i in range(len(row)):\n",
    "#     print(row[0], row[1], str(row[0]).split(\"-\")[0],str(row[0]).split(\"-\")[1],str(row[0]).split(\"-\")[2],list(df.columns)[index+1])\n",
    "        if i < len(row)-1:\n",
    "            outcome2.loc[len(outcome2.index)] = [row[0], row[i+1], year , month, day,list(ekroes.columns)[i+1]]\n",
    "    if index == 9:\n",
    "        break"
   ]
  },
  {
   "cell_type": "code",
   "execution_count": 2,
   "metadata": {
    "execution": {
     "iopub.execute_input": "2022-10-31T12:51:32.773376Z",
     "iopub.status.busy": "2022-10-31T12:51:32.772162Z",
     "iopub.status.idle": "2022-10-31T12:51:32.808228Z",
     "shell.execute_reply": "2022-10-31T12:51:32.807062Z",
     "shell.execute_reply.started": "2022-10-31T12:51:32.773336Z"
    }
   },
   "outputs": [
    {
     "data": {
      "text/html": [
       "<div>\n",
       "<style scoped>\n",
       "    .dataframe tbody tr th:only-of-type {\n",
       "        vertical-align: middle;\n",
       "    }\n",
       "\n",
       "    .dataframe tbody tr th {\n",
       "        vertical-align: top;\n",
       "    }\n",
       "\n",
       "    .dataframe thead th {\n",
       "        text-align: right;\n",
       "    }\n",
       "</style>\n",
       "<table border=\"1\" class=\"dataframe\">\n",
       "  <thead>\n",
       "    <tr style=\"text-align: right;\">\n",
       "      <th></th>\n",
       "      <th>Date</th>\n",
       "      <th>Kwh</th>\n",
       "      <th>year</th>\n",
       "      <th>month</th>\n",
       "      <th>day</th>\n",
       "      <th>city</th>\n",
       "    </tr>\n",
       "  </thead>\n",
       "  <tbody>\n",
       "    <tr>\n",
       "      <th>0</th>\n",
       "      <td>2008-01-01</td>\n",
       "      <td>0.000000e+00</td>\n",
       "      <td>2008</td>\n",
       "      <td>01</td>\n",
       "      <td>01</td>\n",
       "      <td>AGIOI THEODOROI</td>\n",
       "    </tr>\n",
       "    <tr>\n",
       "      <th>1</th>\n",
       "      <td>2008-01-01</td>\n",
       "      <td>0.000000e+00</td>\n",
       "      <td>2008</td>\n",
       "      <td>01</td>\n",
       "      <td>01</td>\n",
       "      <td>ALOYMINION</td>\n",
       "    </tr>\n",
       "    <tr>\n",
       "      <th>2</th>\n",
       "      <td>2008-01-01</td>\n",
       "      <td>0.000000e+00</td>\n",
       "      <td>2008</td>\n",
       "      <td>01</td>\n",
       "      <td>01</td>\n",
       "      <td>ALOYMINION II</td>\n",
       "    </tr>\n",
       "    <tr>\n",
       "      <th>3</th>\n",
       "      <td>2008-01-01</td>\n",
       "      <td>0.000000e+00</td>\n",
       "      <td>2008</td>\n",
       "      <td>01</td>\n",
       "      <td>01</td>\n",
       "      <td>ALOYMINION III</td>\n",
       "    </tr>\n",
       "    <tr>\n",
       "      <th>4</th>\n",
       "      <td>2008-01-01</td>\n",
       "      <td>1.328264e+07</td>\n",
       "      <td>2008</td>\n",
       "      <td>01</td>\n",
       "      <td>01</td>\n",
       "      <td>ATHENS</td>\n",
       "    </tr>\n",
       "    <tr>\n",
       "      <th>...</th>\n",
       "      <td>...</td>\n",
       "      <td>...</td>\n",
       "      <td>...</td>\n",
       "      <td>...</td>\n",
       "      <td>...</td>\n",
       "      <td>...</td>\n",
       "    </tr>\n",
       "    <tr>\n",
       "      <th>445</th>\n",
       "      <td>2008-01-10</td>\n",
       "      <td>3.940428e+05</td>\n",
       "      <td>2008</td>\n",
       "      <td>01</td>\n",
       "      <td>10</td>\n",
       "      <td>SALFA ANO LIOSSIA</td>\n",
       "    </tr>\n",
       "    <tr>\n",
       "      <th>446</th>\n",
       "      <td>2008-01-10</td>\n",
       "      <td>2.447201e+05</td>\n",
       "      <td>2008</td>\n",
       "      <td>01</td>\n",
       "      <td>10</td>\n",
       "      <td>SERRES</td>\n",
       "    </tr>\n",
       "    <tr>\n",
       "      <th>447</th>\n",
       "      <td>2008-01-10</td>\n",
       "      <td>0.000000e+00</td>\n",
       "      <td>2008</td>\n",
       "      <td>01</td>\n",
       "      <td>10</td>\n",
       "      <td>TRIKALA</td>\n",
       "    </tr>\n",
       "    <tr>\n",
       "      <th>448</th>\n",
       "      <td>2008-01-10</td>\n",
       "      <td>0.000000e+00</td>\n",
       "      <td>2008</td>\n",
       "      <td>01</td>\n",
       "      <td>10</td>\n",
       "      <td>FARSALA</td>\n",
       "    </tr>\n",
       "    <tr>\n",
       "      <th>449</th>\n",
       "      <td>2008-01-10</td>\n",
       "      <td>0.000000e+00</td>\n",
       "      <td>2008</td>\n",
       "      <td>01</td>\n",
       "      <td>10</td>\n",
       "      <td>SIDIROKASTRO.1</td>\n",
       "    </tr>\n",
       "  </tbody>\n",
       "</table>\n",
       "<p>450 rows × 6 columns</p>\n",
       "</div>"
      ],
      "text/plain": [
       "          Date           Kwh  year month day               city\n",
       "0   2008-01-01  0.000000e+00  2008    01  01    AGIOI THEODOROI\n",
       "1   2008-01-01  0.000000e+00  2008    01  01         ALOYMINION\n",
       "2   2008-01-01  0.000000e+00  2008    01  01      ALOYMINION II\n",
       "3   2008-01-01  0.000000e+00  2008    01  01     ALOYMINION III\n",
       "4   2008-01-01  1.328264e+07  2008    01  01             ATHENS\n",
       "..         ...           ...   ...   ...  ..                ...\n",
       "445 2008-01-10  3.940428e+05  2008    01  10  SALFA ANO LIOSSIA\n",
       "446 2008-01-10  2.447201e+05  2008    01  10             SERRES\n",
       "447 2008-01-10  0.000000e+00  2008    01  10            TRIKALA\n",
       "448 2008-01-10  0.000000e+00  2008    01  10            FARSALA\n",
       "449 2008-01-10  0.000000e+00  2008    01  10     SIDIROKASTRO.1\n",
       "\n",
       "[450 rows x 6 columns]"
      ]
     },
     "execution_count": 2,
     "metadata": {},
     "output_type": "execute_result"
    }
   ],
   "source": [
    "outcome2"
   ]
  },
  {
   "cell_type": "code",
   "execution_count": 3,
   "metadata": {
    "execution": {
     "iopub.execute_input": "2022-10-31T12:51:40.457023Z",
     "iopub.status.busy": "2022-10-31T12:51:40.456650Z",
     "iopub.status.idle": "2022-10-31T12:51:40.473570Z",
     "shell.execute_reply": "2022-10-31T12:51:40.472546Z",
     "shell.execute_reply.started": "2022-10-31T12:51:40.456997Z"
    }
   },
   "outputs": [
    {
     "data": {
      "text/html": [
       "<div>\n",
       "<style scoped>\n",
       "    .dataframe tbody tr th:only-of-type {\n",
       "        vertical-align: middle;\n",
       "    }\n",
       "\n",
       "    .dataframe tbody tr th {\n",
       "        vertical-align: top;\n",
       "    }\n",
       "\n",
       "    .dataframe thead th {\n",
       "        text-align: right;\n",
       "    }\n",
       "</style>\n",
       "<table border=\"1\" class=\"dataframe\">\n",
       "  <thead>\n",
       "    <tr style=\"text-align: right;\">\n",
       "      <th></th>\n",
       "      <th>Date</th>\n",
       "      <th>Kwh</th>\n",
       "      <th>year</th>\n",
       "      <th>month</th>\n",
       "      <th>day</th>\n",
       "      <th>city</th>\n",
       "    </tr>\n",
       "  </thead>\n",
       "  <tbody>\n",
       "    <tr>\n",
       "      <th>0</th>\n",
       "      <td>2008-01-01</td>\n",
       "      <td>1.345297e+07</td>\n",
       "      <td>2008</td>\n",
       "      <td>01</td>\n",
       "      <td>01</td>\n",
       "      <td>AGIA TRIADA</td>\n",
       "    </tr>\n",
       "    <tr>\n",
       "      <th>1</th>\n",
       "      <td>2008-01-01</td>\n",
       "      <td>8.024045e+07</td>\n",
       "      <td>2008</td>\n",
       "      <td>01</td>\n",
       "      <td>01</td>\n",
       "      <td>SIDIROKASTRO</td>\n",
       "    </tr>\n",
       "    <tr>\n",
       "      <th>2</th>\n",
       "      <td>2008-01-01</td>\n",
       "      <td>1.546574e+07</td>\n",
       "      <td>2008</td>\n",
       "      <td>01</td>\n",
       "      <td>01</td>\n",
       "      <td>KIPI</td>\n",
       "    </tr>\n",
       "    <tr>\n",
       "      <th>3</th>\n",
       "      <td>2008-01-01</td>\n",
       "      <td>0.000000e+00</td>\n",
       "      <td>2008</td>\n",
       "      <td>01</td>\n",
       "      <td>01</td>\n",
       "      <td>NEA MESIMVRIA</td>\n",
       "    </tr>\n",
       "    <tr>\n",
       "      <th>4</th>\n",
       "      <td>2008-01-02</td>\n",
       "      <td>4.251322e+07</td>\n",
       "      <td>2008</td>\n",
       "      <td>01</td>\n",
       "      <td>02</td>\n",
       "      <td>AGIA TRIADA</td>\n",
       "    </tr>\n",
       "    <tr>\n",
       "      <th>...</th>\n",
       "      <td>...</td>\n",
       "      <td>...</td>\n",
       "      <td>...</td>\n",
       "      <td>...</td>\n",
       "      <td>...</td>\n",
       "      <td>...</td>\n",
       "    </tr>\n",
       "    <tr>\n",
       "      <th>21423</th>\n",
       "      <td>2022-08-30</td>\n",
       "      <td>4.030202e+07</td>\n",
       "      <td>2022</td>\n",
       "      <td>08</td>\n",
       "      <td>30</td>\n",
       "      <td>NEA MESIMVRIA</td>\n",
       "    </tr>\n",
       "    <tr>\n",
       "      <th>21424</th>\n",
       "      <td>2022-08-31</td>\n",
       "      <td>9.514826e+07</td>\n",
       "      <td>2022</td>\n",
       "      <td>08</td>\n",
       "      <td>31</td>\n",
       "      <td>AGIA TRIADA</td>\n",
       "    </tr>\n",
       "    <tr>\n",
       "      <th>21425</th>\n",
       "      <td>2022-08-31</td>\n",
       "      <td>4.618373e+07</td>\n",
       "      <td>2022</td>\n",
       "      <td>08</td>\n",
       "      <td>31</td>\n",
       "      <td>SIDIROKASTRO</td>\n",
       "    </tr>\n",
       "    <tr>\n",
       "      <th>21426</th>\n",
       "      <td>2022-08-31</td>\n",
       "      <td>1.048523e+07</td>\n",
       "      <td>2022</td>\n",
       "      <td>08</td>\n",
       "      <td>31</td>\n",
       "      <td>KIPI</td>\n",
       "    </tr>\n",
       "    <tr>\n",
       "      <th>21427</th>\n",
       "      <td>2022-08-31</td>\n",
       "      <td>2.908789e+07</td>\n",
       "      <td>2022</td>\n",
       "      <td>08</td>\n",
       "      <td>31</td>\n",
       "      <td>NEA MESIMVRIA</td>\n",
       "    </tr>\n",
       "  </tbody>\n",
       "</table>\n",
       "<p>21428 rows × 6 columns</p>\n",
       "</div>"
      ],
      "text/plain": [
       "            Date           Kwh  year month day           city\n",
       "0     2008-01-01  1.345297e+07  2008    01  01    AGIA TRIADA\n",
       "1     2008-01-01  8.024045e+07  2008    01  01   SIDIROKASTRO\n",
       "2     2008-01-01  1.546574e+07  2008    01  01           KIPI\n",
       "3     2008-01-01  0.000000e+00  2008    01  01  NEA MESIMVRIA\n",
       "4     2008-01-02  4.251322e+07  2008    01  02    AGIA TRIADA\n",
       "...          ...           ...   ...   ...  ..            ...\n",
       "21423 2022-08-30  4.030202e+07  2022    08  30  NEA MESIMVRIA\n",
       "21424 2022-08-31  9.514826e+07  2022    08  31    AGIA TRIADA\n",
       "21425 2022-08-31  4.618373e+07  2022    08  31   SIDIROKASTRO\n",
       "21426 2022-08-31  1.048523e+07  2022    08  31           KIPI\n",
       "21427 2022-08-31  2.908789e+07  2022    08  31  NEA MESIMVRIA\n",
       "\n",
       "[21428 rows x 6 columns]"
      ]
     },
     "execution_count": 3,
     "metadata": {},
     "output_type": "execute_result"
    }
   ],
   "source": [
    "income"
   ]
  }
 ],
 "metadata": {
  "kernelspec": {
   "display_name": "Python 3",
   "language": "python",
   "name": "python3"
  },
  "language_info": {
   "codemirror_mode": {
    "name": "ipython",
    "version": 3
   },
   "file_extension": ".py",
   "mimetype": "text/x-python",
   "name": "python",
   "nbconvert_exporter": "python",
   "pygments_lexer": "ipython3",
   "version": "3.6.9"
  }
 },
 "nbformat": 4,
 "nbformat_minor": 4
}
