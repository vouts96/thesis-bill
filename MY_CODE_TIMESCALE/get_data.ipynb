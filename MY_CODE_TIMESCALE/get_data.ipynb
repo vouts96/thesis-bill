{
 "cells": [
  {
   "cell_type": "markdown",
   "metadata": {},
   "source": [
    "# Notebook for getting the data from EPU server Timescale DB"
   ]
  },
  {
   "cell_type": "markdown",
   "metadata": {},
   "source": [
    "### 6H Timescale Data"
   ]
  },
  {
   "cell_type": "code",
   "execution_count": 7,
   "metadata": {},
   "outputs": [],
   "source": [
    "import requests\n",
    "import pandas as pd \n",
    "\n",
    "# URL of the API endpoint\n",
    "url = \"http://enershare.epu.ntua.gr:3001/desfa_flows_6h?and=(timestamp.gte.2022-01-01,timestamp.lt.2025-01-01)\"\n",
    "\n",
    "# Perform the GET request\n",
    "response = requests.get(url)\n",
    "\n",
    "# Check if the request was successful\n",
    "if response.status_code == 200:\n",
    "    # Parse the response JSON\n",
    "    data = response.json()\n",
    "    \n",
    "    # Convert it to a Dataframe\n",
    "    df = pd.DataFrame(data)\n",
    "\n",
    "    # Save it as a csv\n",
    "    df.to_csv('../TIMESCALE_TO_CSV/6H.csv')\n",
    "else:\n",
    "    print(f\"Request failed with status code: {response.status_code}\")\n"
   ]
  },
  {
   "cell_type": "markdown",
   "metadata": {},
   "source": [
    "### 1H Timescale Data"
   ]
  },
  {
   "cell_type": "code",
   "execution_count": 2,
   "metadata": {},
   "outputs": [],
   "source": [
    "import requests\n",
    "import pandas as pd \n",
    "\n",
    "# URL of the API endpoint\n",
    "#url = \"http://enershare.epu.ntua.gr:3001/desfa_flows_hourly_archive?and=(timestamp.gte.2018-01-01,timestamp.lt.2019-01-01)\"\n",
    "\n",
    "years_list = ['2014', '2015', '2016', '2017', '2018', '2019', '2020']\n",
    "\n",
    "df_list = []\n",
    "for i in range(0, len(years_list)-1):\n",
    "\n",
    "    url = \"http://enershare.epu.ntua.gr:3001/desfa_flows_hourly_archive?and=(timestamp.gte.\" + years_list[i] + \"-01-01,timestamp.lt.\" + years_list[i+1] + \"-01-01)\"\n",
    "    # Perform the GET request\n",
    "    with requests.get(url, stream=True, timeout=120) as response:\n",
    "\n",
    "        # Check if the request was successful\n",
    "        if response.status_code == 200:\n",
    "            # Parse the response JSON\n",
    "            data = response.json()\n",
    "            \n",
    "            # Convert it to a Dataframe\n",
    "            temp_df = pd.DataFrame(data)\n",
    "\n",
    "            # Save it as a csv\n",
    "            df_list.append(temp_df)\n",
    "        else:\n",
    "            print(f\"Request failed with status code: {response.status_code}\")\n",
    "\n",
    "result_df = pd.concat([df for df in df_list], ignore_index=True)\n",
    "result_df.to_csv('../TIMESCALE_TO_CSV/1H.csv')"
   ]
  },
  {
   "cell_type": "code",
   "execution_count": null,
   "metadata": {},
   "outputs": [],
   "source": []
  }
 ],
 "metadata": {
  "kernelspec": {
   "display_name": "Python 3",
   "language": "python",
   "name": "python3"
  },
  "language_info": {
   "codemirror_mode": {
    "name": "ipython",
    "version": 3
   },
   "file_extension": ".py",
   "mimetype": "text/x-python",
   "name": "python",
   "nbconvert_exporter": "python",
   "pygments_lexer": "ipython3",
   "version": "3.12.4"
  }
 },
 "nbformat": 4,
 "nbformat_minor": 2
}
