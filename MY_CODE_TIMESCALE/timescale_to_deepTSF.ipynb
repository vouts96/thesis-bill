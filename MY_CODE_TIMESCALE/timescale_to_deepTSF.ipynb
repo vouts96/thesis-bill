{
 "cells": [
  {
   "cell_type": "markdown",
   "metadata": {},
   "source": [
    "# Notebook for changing data format to deepTSF long multiseries file"
   ]
  },
  {
   "cell_type": "code",
   "execution_count": 35,
   "metadata": {},
   "outputs": [],
   "source": [
    "import pandas as pd\n",
    "\n",
    "def timescale_to_deepTSF_long_multi_zeros(csv, output):\n",
    "    '''\n",
    "    Function that takes as input a csv path of Timescale EPU data and converts them to deepTSF long format\n",
    "    This function applies zeros (0) to every ID as a Timeseries ID\n",
    "    params\n",
    "    ------\n",
    "    csv: str\n",
    "        path of csv file\n",
    "    \n",
    "    output: str\n",
    "        path of output csv file (user defined)\n",
    "\n",
    "    returns\n",
    "    -------\n",
    "    None\n",
    "    '''\n",
    "    df = pd.read_csv(csv, parse_dates=['timestamp'])\n",
    "    \n",
    "    df = df.drop('point_type', axis=1)\n",
    "    df.drop(columns=df.columns[0], axis=1, inplace=True)\n",
    "    df.insert(3, 'Timeseries ID', 0)\n",
    "    df.columns = ['Datetime', 'Value', 'ID', 'Timeseries ID']\n",
    "\n",
    "    # Rescale Data\n",
    "    datetime_threshold = pd.to_datetime('2017-05-31 00:00:00')\n",
    "    for index, row in df.iterrows():\n",
    "        if(row['Datetime'] >= datetime_threshold):\n",
    "            df.at[index, 'Value'] = row['Value'] / 1000\n",
    "\n",
    "    # Drop Duplicates\n",
    "    df = df.drop_duplicates(subset=['ID', 'Datetime']).reset_index(drop=True)\n",
    "\n",
    "    # Sort by Datetime\n",
    "    df = df.sort_values(by=['ID', 'Datetime']).reset_index(drop=True)\n",
    "\n",
    "    df.to_csv(output)\n",
    "\n",
    "\n",
    "timescale_to_deepTSF_long_multi_zeros('../TIMESCALE_TO_CSV/6H.csv', '../TIMESCALE_TO_CSV/6H_long.csv')\n",
    "timescale_to_deepTSF_long_multi_zeros('../TIMESCALE_TO_CSV/1H.csv', '../TIMESCALE_TO_CSV/1H_long.csv')"
   ]
  },
  {
   "cell_type": "code",
   "execution_count": 1,
   "metadata": {},
   "outputs": [],
   "source": [
    "import pandas as pd\n",
    "\n",
    "def csv_concat(csv1, csv2, output):\n",
    "\n",
    "    df1 = pd.read_csv(csv1, parse_dates=['Datetime']).drop('Unnamed: 0', axis=1)\n",
    "    df2 = pd.read_csv(csv2, parse_dates=['Datetime']).drop('Unnamed: 0', axis=1)\n",
    "    \n",
    "    df = pd.concat([df1, df2]).reset_index(drop = True)\n",
    "    # Assign unique Timeseries ID for each unique ID\n",
    "    unique_ids = df['ID'].unique()\n",
    "    id_to_timeseries = {id_: idx for idx, id_ in enumerate(unique_ids)}\n",
    "\n",
    "    # Apply the mapping to create unique Timeseries IDs\n",
    "    df['Timeseries ID'] = df['ID'].map(id_to_timeseries)\n",
    "\n",
    "    #df.groupby(by=['ID'], sort=['Datetime'])\n",
    "    df = df.sort_values(by=['ID', 'Datetime'], ascending=True).reset_index(drop = True)\n",
    "\n",
    "    df.to_csv(output)\n",
    "\n",
    "csv_concat('../TIMESCALE_TO_CSV/1H_to_6H_long.csv', '../TIMESCALE_TO_CSV/6H_long.csv', '../TIMESCALE_TO_CSV/all_data_6H_long.csv')"
   ]
  },
  {
   "cell_type": "code",
   "execution_count": null,
   "metadata": {},
   "outputs": [],
   "source": []
  }
 ],
 "metadata": {
  "kernelspec": {
   "display_name": "Python 3",
   "language": "python",
   "name": "python3"
  },
  "language_info": {
   "codemirror_mode": {
    "name": "ipython",
    "version": 3
   },
   "file_extension": ".py",
   "mimetype": "text/x-python",
   "name": "python",
   "nbconvert_exporter": "python",
   "pygments_lexer": "ipython3",
   "version": "3.12.4"
  }
 },
 "nbformat": 4,
 "nbformat_minor": 2
}
